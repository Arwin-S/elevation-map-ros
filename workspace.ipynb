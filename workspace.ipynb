{
 "cells": [
  {
   "cell_type": "code",
   "execution_count": 1,
   "metadata": {},
   "outputs": [],
   "source": [
    "import numpy as np\n",
    "import pandas as pd"
   ]
  },
  {
   "cell_type": "code",
   "execution_count": 2,
   "metadata": {},
   "outputs": [],
   "source": [
    "df = pd.read_csv('table_of_points.csv')"
   ]
  },
  {
   "cell_type": "code",
   "execution_count": 18,
   "metadata": {},
   "outputs": [],
   "source": [
    "points = df.values\n",
    "points = points[:, 2:]\n",
    "\n",
    "point_count = points.shape[0]\n"
   ]
  },
  {
   "cell_type": "markdown",
   "metadata": {},
   "source": [
    "Points: elevation, X, Y"
   ]
  },
  {
   "cell_type": "code",
   "execution_count": 22,
   "metadata": {},
   "outputs": [],
   "source": [
    "mid = point_count // 2\n",
    "mid = points[mid]\n"
   ]
  },
  {
   "cell_type": "markdown",
   "metadata": {},
   "source": [
    "Translate Data to arbitrary observation point frame"
   ]
  },
  {
   "cell_type": "code",
   "execution_count": 23,
   "metadata": {},
   "outputs": [],
   "source": [
    "local_points = points - mid"
   ]
  },
  {
   "cell_type": "markdown",
   "metadata": {},
   "source": [
    "Map Size "
   ]
  },
  {
   "cell_type": "code",
   "execution_count": 32,
   "metadata": {},
   "outputs": [
    {
     "name": "stdout",
     "output_type": "stream",
     "text": [
      "66.99999999912689\n",
      "54.999999998137355\n",
      "66.99999999912689\n",
      "54.999999998137355\n"
     ]
    }
   ],
   "source": [
    "max_x = np.max(points[:, 1])\n",
    "min_x = np.min(points[:, 1])\n",
    "max_y = np.max(points[:, 2])\n",
    "min_y = np.min(points[:, 2])\n",
    "\n",
    "print(max_x - min_x)\n",
    "print(max_y - min_y)\n",
    "\n",
    "max_x = np.max(local_points[:, 1])\n",
    "min_x = np.min(local_points[:, 1])\n",
    "max_y = np.max(local_points[:, 2])\n",
    "min_y = np.min(local_points[:, 2])\n",
    "\n",
    "print(max_x - min_x)\n",
    "print(max_y - min_y)\n"
   ]
  },
  {
   "cell_type": "markdown",
   "metadata": {},
   "source": [
    "Write to PCD"
   ]
  },
  {
   "cell_type": "code",
   "execution_count": 31,
   "metadata": {},
   "outputs": [
    {
     "name": "stdout",
     "output_type": "stream",
     "text": [
      "66.99999999912689\n",
      "54.999999998137355\n"
     ]
    }
   ],
   "source": [
    "import pcl\n",
    "import numpy as np\n",
    "\n",
    "# assuming numpy_array is your original array with z in column 0, x in column 1, and y in column 2\n",
    "structured_array = np.core.records.fromarrays([numpy_array[:, 0], numpy_array[:, 1], numpy_array[:, 2]], \n",
    "                                              names='z, x, y', \n",
    "                                              formats='f8, f8, f8')\n",
    "\n",
    "# Create a pcl.PointCloud object\n",
    "cloud = pcl.PointCloud()\n",
    "\n",
    "# Convert the structured numpy array to the pcl.PointCloud\n",
    "cloud.from_array(structured_array)\n",
    "\n",
    "# Save the pcl.PointCloud to a .pcd file\n",
    "pcl.save(cloud, \"filename.pcd\", format=\"pcd\")\n"
   ]
  }
 ],
 "metadata": {
  "kernelspec": {
   "display_name": "Python 3",
   "language": "python",
   "name": "python3"
  },
  "language_info": {
   "codemirror_mode": {
    "name": "ipython",
    "version": 3
   },
   "file_extension": ".py",
   "mimetype": "text/x-python",
   "name": "python",
   "nbconvert_exporter": "python",
   "pygments_lexer": "ipython3",
   "version": "3.11.3"
  },
  "orig_nbformat": 4
 },
 "nbformat": 4,
 "nbformat_minor": 2
}
